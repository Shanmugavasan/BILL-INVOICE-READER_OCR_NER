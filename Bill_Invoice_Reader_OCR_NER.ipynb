{
  "nbformat": 4,
  "nbformat_minor": 0,
  "metadata": {
    "colab": {
      "provenance": [],
      "collapsed_sections": [
        "-qGbJng9sQqp"
      ],
      "authorship_tag": "ABX9TyM1Q/pY0Wb9eRsqTqESRAz7"
    },
    "kernelspec": {
      "name": "python3",
      "display_name": "Python 3"
    },
    "language_info": {
      "name": "python"
    }
  },
  "cells": [
    {
      "cell_type": "markdown",
      "source": [
        "# Installing Dependensies"
      ],
      "metadata": {
        "id": "NWlbELMKuoTP"
      }
    },
    {
      "cell_type": "code",
      "source": [
        "!pip install pytesseract"
      ],
      "metadata": {
        "colab": {
          "base_uri": "https://localhost:8080/"
        },
        "id": "KvRe4vfIpgyM",
        "outputId": "2e0ffdb8-75b0-40d7-8b9c-825a210e049e"
      },
      "execution_count": 7,
      "outputs": [
        {
          "output_type": "stream",
          "name": "stdout",
          "text": [
            "Requirement already satisfied: pytesseract in /usr/local/lib/python3.10/dist-packages (0.3.10)\n",
            "Requirement already satisfied: packaging>=21.3 in /usr/local/lib/python3.10/dist-packages (from pytesseract) (23.2)\n",
            "Requirement already satisfied: Pillow>=8.0.0 in /usr/local/lib/python3.10/dist-packages (from pytesseract) (9.4.0)\n"
          ]
        }
      ]
    },
    {
      "cell_type": "code",
      "source": [
        "!pip install spacy"
      ],
      "metadata": {
        "colab": {
          "base_uri": "https://localhost:8080/"
        },
        "id": "tgMIiT2OsnIo",
        "outputId": "fac02fe4-f0e3-4b1c-ecd3-97f272e4db05"
      },
      "execution_count": 8,
      "outputs": [
        {
          "output_type": "stream",
          "name": "stdout",
          "text": [
            "Requirement already satisfied: spacy in /usr/local/lib/python3.10/dist-packages (3.6.1)\n",
            "Requirement already satisfied: spacy-legacy<3.1.0,>=3.0.11 in /usr/local/lib/python3.10/dist-packages (from spacy) (3.0.12)\n",
            "Requirement already satisfied: spacy-loggers<2.0.0,>=1.0.0 in /usr/local/lib/python3.10/dist-packages (from spacy) (1.0.5)\n",
            "Requirement already satisfied: murmurhash<1.1.0,>=0.28.0 in /usr/local/lib/python3.10/dist-packages (from spacy) (1.0.10)\n",
            "Requirement already satisfied: cymem<2.1.0,>=2.0.2 in /usr/local/lib/python3.10/dist-packages (from spacy) (2.0.8)\n",
            "Requirement already satisfied: preshed<3.1.0,>=3.0.2 in /usr/local/lib/python3.10/dist-packages (from spacy) (3.0.9)\n",
            "Requirement already satisfied: thinc<8.2.0,>=8.1.8 in /usr/local/lib/python3.10/dist-packages (from spacy) (8.1.12)\n",
            "Requirement already satisfied: wasabi<1.2.0,>=0.9.1 in /usr/local/lib/python3.10/dist-packages (from spacy) (1.1.2)\n",
            "Requirement already satisfied: srsly<3.0.0,>=2.4.3 in /usr/local/lib/python3.10/dist-packages (from spacy) (2.4.8)\n",
            "Requirement already satisfied: catalogue<2.1.0,>=2.0.6 in /usr/local/lib/python3.10/dist-packages (from spacy) (2.0.10)\n",
            "Requirement already satisfied: typer<0.10.0,>=0.3.0 in /usr/local/lib/python3.10/dist-packages (from spacy) (0.9.0)\n",
            "Requirement already satisfied: pathy>=0.10.0 in /usr/local/lib/python3.10/dist-packages (from spacy) (0.10.2)\n",
            "Requirement already satisfied: smart-open<7.0.0,>=5.2.1 in /usr/local/lib/python3.10/dist-packages (from spacy) (6.4.0)\n",
            "Requirement already satisfied: tqdm<5.0.0,>=4.38.0 in /usr/local/lib/python3.10/dist-packages (from spacy) (4.66.1)\n",
            "Requirement already satisfied: numpy>=1.15.0 in /usr/local/lib/python3.10/dist-packages (from spacy) (1.23.5)\n",
            "Requirement already satisfied: requests<3.0.0,>=2.13.0 in /usr/local/lib/python3.10/dist-packages (from spacy) (2.31.0)\n",
            "Requirement already satisfied: pydantic!=1.8,!=1.8.1,<3.0.0,>=1.7.4 in /usr/local/lib/python3.10/dist-packages (from spacy) (1.10.13)\n",
            "Requirement already satisfied: jinja2 in /usr/local/lib/python3.10/dist-packages (from spacy) (3.1.2)\n",
            "Requirement already satisfied: setuptools in /usr/local/lib/python3.10/dist-packages (from spacy) (67.7.2)\n",
            "Requirement already satisfied: packaging>=20.0 in /usr/local/lib/python3.10/dist-packages (from spacy) (23.2)\n",
            "Requirement already satisfied: langcodes<4.0.0,>=3.2.0 in /usr/local/lib/python3.10/dist-packages (from spacy) (3.3.0)\n",
            "Requirement already satisfied: typing-extensions>=4.2.0 in /usr/local/lib/python3.10/dist-packages (from pydantic!=1.8,!=1.8.1,<3.0.0,>=1.7.4->spacy) (4.5.0)\n",
            "Requirement already satisfied: charset-normalizer<4,>=2 in /usr/local/lib/python3.10/dist-packages (from requests<3.0.0,>=2.13.0->spacy) (3.3.0)\n",
            "Requirement already satisfied: idna<4,>=2.5 in /usr/local/lib/python3.10/dist-packages (from requests<3.0.0,>=2.13.0->spacy) (3.4)\n",
            "Requirement already satisfied: urllib3<3,>=1.21.1 in /usr/local/lib/python3.10/dist-packages (from requests<3.0.0,>=2.13.0->spacy) (2.0.6)\n",
            "Requirement already satisfied: certifi>=2017.4.17 in /usr/local/lib/python3.10/dist-packages (from requests<3.0.0,>=2.13.0->spacy) (2023.7.22)\n",
            "Requirement already satisfied: blis<0.8.0,>=0.7.8 in /usr/local/lib/python3.10/dist-packages (from thinc<8.2.0,>=8.1.8->spacy) (0.7.11)\n",
            "Requirement already satisfied: confection<1.0.0,>=0.0.1 in /usr/local/lib/python3.10/dist-packages (from thinc<8.2.0,>=8.1.8->spacy) (0.1.3)\n",
            "Requirement already satisfied: click<9.0.0,>=7.1.1 in /usr/local/lib/python3.10/dist-packages (from typer<0.10.0,>=0.3.0->spacy) (8.1.7)\n",
            "Requirement already satisfied: MarkupSafe>=2.0 in /usr/local/lib/python3.10/dist-packages (from jinja2->spacy) (2.1.3)\n"
          ]
        }
      ]
    },
    {
      "cell_type": "code",
      "source": [
        "!python -m spacy download en_core_web_sm"
      ],
      "metadata": {
        "colab": {
          "base_uri": "https://localhost:8080/"
        },
        "id": "qdutODHgsqN_",
        "outputId": "9c1a0dc3-aeed-4a05-e8da-7157e1304998"
      },
      "execution_count": 9,
      "outputs": [
        {
          "output_type": "stream",
          "name": "stdout",
          "text": [
            "2023-10-12 18:31:01.912302: I tensorflow/core/platform/cpu_feature_guard.cc:182] This TensorFlow binary is optimized to use available CPU instructions in performance-critical operations.\n",
            "To enable the following instructions: AVX2 FMA, in other operations, rebuild TensorFlow with the appropriate compiler flags.\n",
            "2023-10-12 18:31:03.192673: W tensorflow/compiler/tf2tensorrt/utils/py_utils.cc:38] TF-TRT Warning: Could not find TensorRT\n",
            "Collecting en-core-web-sm==3.6.0\n",
            "  Downloading https://github.com/explosion/spacy-models/releases/download/en_core_web_sm-3.6.0/en_core_web_sm-3.6.0-py3-none-any.whl (12.8 MB)\n",
            "\u001b[2K     \u001b[90m━━━━━━━━━━━━━━━━━━━━━━━━━━━━━━━━━━━━━━━━\u001b[0m \u001b[32m12.8/12.8 MB\u001b[0m \u001b[31m16.2 MB/s\u001b[0m eta \u001b[36m0:00:00\u001b[0m\n",
            "\u001b[?25hRequirement already satisfied: spacy<3.7.0,>=3.6.0 in /usr/local/lib/python3.10/dist-packages (from en-core-web-sm==3.6.0) (3.6.1)\n",
            "Requirement already satisfied: spacy-legacy<3.1.0,>=3.0.11 in /usr/local/lib/python3.10/dist-packages (from spacy<3.7.0,>=3.6.0->en-core-web-sm==3.6.0) (3.0.12)\n",
            "Requirement already satisfied: spacy-loggers<2.0.0,>=1.0.0 in /usr/local/lib/python3.10/dist-packages (from spacy<3.7.0,>=3.6.0->en-core-web-sm==3.6.0) (1.0.5)\n",
            "Requirement already satisfied: murmurhash<1.1.0,>=0.28.0 in /usr/local/lib/python3.10/dist-packages (from spacy<3.7.0,>=3.6.0->en-core-web-sm==3.6.0) (1.0.10)\n",
            "Requirement already satisfied: cymem<2.1.0,>=2.0.2 in /usr/local/lib/python3.10/dist-packages (from spacy<3.7.0,>=3.6.0->en-core-web-sm==3.6.0) (2.0.8)\n",
            "Requirement already satisfied: preshed<3.1.0,>=3.0.2 in /usr/local/lib/python3.10/dist-packages (from spacy<3.7.0,>=3.6.0->en-core-web-sm==3.6.0) (3.0.9)\n",
            "Requirement already satisfied: thinc<8.2.0,>=8.1.8 in /usr/local/lib/python3.10/dist-packages (from spacy<3.7.0,>=3.6.0->en-core-web-sm==3.6.0) (8.1.12)\n",
            "Requirement already satisfied: wasabi<1.2.0,>=0.9.1 in /usr/local/lib/python3.10/dist-packages (from spacy<3.7.0,>=3.6.0->en-core-web-sm==3.6.0) (1.1.2)\n",
            "Requirement already satisfied: srsly<3.0.0,>=2.4.3 in /usr/local/lib/python3.10/dist-packages (from spacy<3.7.0,>=3.6.0->en-core-web-sm==3.6.0) (2.4.8)\n",
            "Requirement already satisfied: catalogue<2.1.0,>=2.0.6 in /usr/local/lib/python3.10/dist-packages (from spacy<3.7.0,>=3.6.0->en-core-web-sm==3.6.0) (2.0.10)\n",
            "Requirement already satisfied: typer<0.10.0,>=0.3.0 in /usr/local/lib/python3.10/dist-packages (from spacy<3.7.0,>=3.6.0->en-core-web-sm==3.6.0) (0.9.0)\n",
            "Requirement already satisfied: pathy>=0.10.0 in /usr/local/lib/python3.10/dist-packages (from spacy<3.7.0,>=3.6.0->en-core-web-sm==3.6.0) (0.10.2)\n",
            "Requirement already satisfied: smart-open<7.0.0,>=5.2.1 in /usr/local/lib/python3.10/dist-packages (from spacy<3.7.0,>=3.6.0->en-core-web-sm==3.6.0) (6.4.0)\n",
            "Requirement already satisfied: tqdm<5.0.0,>=4.38.0 in /usr/local/lib/python3.10/dist-packages (from spacy<3.7.0,>=3.6.0->en-core-web-sm==3.6.0) (4.66.1)\n",
            "Requirement already satisfied: numpy>=1.15.0 in /usr/local/lib/python3.10/dist-packages (from spacy<3.7.0,>=3.6.0->en-core-web-sm==3.6.0) (1.23.5)\n",
            "Requirement already satisfied: requests<3.0.0,>=2.13.0 in /usr/local/lib/python3.10/dist-packages (from spacy<3.7.0,>=3.6.0->en-core-web-sm==3.6.0) (2.31.0)\n",
            "Requirement already satisfied: pydantic!=1.8,!=1.8.1,<3.0.0,>=1.7.4 in /usr/local/lib/python3.10/dist-packages (from spacy<3.7.0,>=3.6.0->en-core-web-sm==3.6.0) (1.10.13)\n",
            "Requirement already satisfied: jinja2 in /usr/local/lib/python3.10/dist-packages (from spacy<3.7.0,>=3.6.0->en-core-web-sm==3.6.0) (3.1.2)\n",
            "Requirement already satisfied: setuptools in /usr/local/lib/python3.10/dist-packages (from spacy<3.7.0,>=3.6.0->en-core-web-sm==3.6.0) (67.7.2)\n",
            "Requirement already satisfied: packaging>=20.0 in /usr/local/lib/python3.10/dist-packages (from spacy<3.7.0,>=3.6.0->en-core-web-sm==3.6.0) (23.2)\n",
            "Requirement already satisfied: langcodes<4.0.0,>=3.2.0 in /usr/local/lib/python3.10/dist-packages (from spacy<3.7.0,>=3.6.0->en-core-web-sm==3.6.0) (3.3.0)\n",
            "Requirement already satisfied: typing-extensions>=4.2.0 in /usr/local/lib/python3.10/dist-packages (from pydantic!=1.8,!=1.8.1,<3.0.0,>=1.7.4->spacy<3.7.0,>=3.6.0->en-core-web-sm==3.6.0) (4.5.0)\n",
            "Requirement already satisfied: charset-normalizer<4,>=2 in /usr/local/lib/python3.10/dist-packages (from requests<3.0.0,>=2.13.0->spacy<3.7.0,>=3.6.0->en-core-web-sm==3.6.0) (3.3.0)\n",
            "Requirement already satisfied: idna<4,>=2.5 in /usr/local/lib/python3.10/dist-packages (from requests<3.0.0,>=2.13.0->spacy<3.7.0,>=3.6.0->en-core-web-sm==3.6.0) (3.4)\n",
            "Requirement already satisfied: urllib3<3,>=1.21.1 in /usr/local/lib/python3.10/dist-packages (from requests<3.0.0,>=2.13.0->spacy<3.7.0,>=3.6.0->en-core-web-sm==3.6.0) (2.0.6)\n",
            "Requirement already satisfied: certifi>=2017.4.17 in /usr/local/lib/python3.10/dist-packages (from requests<3.0.0,>=2.13.0->spacy<3.7.0,>=3.6.0->en-core-web-sm==3.6.0) (2023.7.22)\n",
            "Requirement already satisfied: blis<0.8.0,>=0.7.8 in /usr/local/lib/python3.10/dist-packages (from thinc<8.2.0,>=8.1.8->spacy<3.7.0,>=3.6.0->en-core-web-sm==3.6.0) (0.7.11)\n",
            "Requirement already satisfied: confection<1.0.0,>=0.0.1 in /usr/local/lib/python3.10/dist-packages (from thinc<8.2.0,>=8.1.8->spacy<3.7.0,>=3.6.0->en-core-web-sm==3.6.0) (0.1.3)\n",
            "Requirement already satisfied: click<9.0.0,>=7.1.1 in /usr/local/lib/python3.10/dist-packages (from typer<0.10.0,>=0.3.0->spacy<3.7.0,>=3.6.0->en-core-web-sm==3.6.0) (8.1.7)\n",
            "Requirement already satisfied: MarkupSafe>=2.0 in /usr/local/lib/python3.10/dist-packages (from jinja2->spacy<3.7.0,>=3.6.0->en-core-web-sm==3.6.0) (2.1.3)\n",
            "\u001b[38;5;2m✔ Download and installation successful\u001b[0m\n",
            "You can now load the package via spacy.load('en_core_web_sm')\n"
          ]
        }
      ]
    },
    {
      "cell_type": "code",
      "source": [
        "!sudo apt install tesseract-ocr"
      ],
      "metadata": {
        "colab": {
          "base_uri": "https://localhost:8080/"
        },
        "id": "bRMsMXG0pj0a",
        "outputId": "fb2e4546-3e55-43a4-a3a1-7ad0e6fb29bd"
      },
      "execution_count": 10,
      "outputs": [
        {
          "output_type": "stream",
          "name": "stdout",
          "text": [
            "Reading package lists... Done\n",
            "Building dependency tree... Done\n",
            "Reading state information... Done\n",
            "tesseract-ocr is already the newest version (4.1.1-2.1build1).\n",
            "0 upgraded, 0 newly installed, 0 to remove and 18 not upgraded.\n"
          ]
        }
      ]
    },
    {
      "cell_type": "markdown",
      "source": [
        "# OCR STRIPPING (SINCE ITS NOT HANDWRITTEN, THE COLOR CONVERSIONS ARE NOT PERFORMED"
      ],
      "metadata": {
        "id": "UTMau5cDp6uJ"
      }
    },
    {
      "cell_type": "code",
      "source": [
        "import pytesseract\n",
        "from PIL import Image\n",
        "\n",
        "# Specify the path to the Tesseract executable (not needed in Google Colab)\n",
        "# pytesseract.pytesseract.tesseract_cmd = r'C:\\Program Files\\Tesseract-OCR\\tesseract.exe'\n",
        "\n",
        "# Load the image\n",
        "image_path = 'sample.png'\n",
        "image = Image.open(image_path)\n",
        "\n",
        "# Perform OCR\n",
        "ocr_text = pytesseract.image_to_string(image)\n",
        "\n"
      ],
      "metadata": {
        "id": "VgSy0aVYskJh"
      },
      "execution_count": 11,
      "outputs": []
    },
    {
      "cell_type": "markdown",
      "source": [
        "## Let us see the result of the extraction.\n"
      ],
      "metadata": {
        "id": "lkCMsqYfn0XG"
      }
    },
    {
      "cell_type": "code",
      "source": [
        "print(ocr_text)"
      ],
      "metadata": {
        "colab": {
          "base_uri": "https://localhost:8080/"
        },
        "id": "SyCCJCIfwfbY",
        "outputId": "8f024eda-2828-4009-af8b-f2ea81e3f881"
      },
      "execution_count": 12,
      "outputs": [
        {
          "output_type": "stream",
          "name": "stdout",
          "text": [
            ">\n",
            "\n",
            "Salford & Co.\n",
            "\n",
            "123 Anywhere St., Any City, ST 12345\n",
            "Tel: +123-456-7890\n",
            "\n",
            "INVOICE\n",
            "\n",
            "Invoice No: 00000001 Date: 12 October, 2025\n",
            "\n",
            "Bill to: Liceria & Co.\n",
            "\n",
            "123 Anywhere St.,\n",
            "Any City, ST 12345\n",
            "\n",
            "     \n",
            "\n",
            "       \n",
            "\n",
            "Item Description Price Amount\n",
            "1. Logo Design $200 $200\n",
            "2. Advertising Design $500 $500\n",
            "3. Poster Design $500 $500\n",
            "4. Brochure Design $200 $200\n",
            "5 Content Writer $500 $500\n",
            "\n",
            " \n",
            "\n",
            "Total: $1900\n",
            "\n",
            "Bank Name: Olivia Wilson\n",
            "Bank Account: 0123 4567 8901\n",
            "\n",
            " \n",
            "\n",
            "If you have any question please contact : hello@reallygreatsite.com\n",
            "\f\n"
          ]
        }
      ]
    },
    {
      "cell_type": "markdown",
      "source": [
        "## Let us now use NER to extract the needed data and put them in a csv file."
      ],
      "metadata": {
        "id": "C_kSR6CssEqG"
      }
    },
    {
      "cell_type": "code",
      "source": [
        "import re\n",
        "import csv\n",
        "\n",
        "\n",
        "# Extract invoice number and date\n",
        "invoice_number_match = re.search(r\"Invoice No:\\s*([0-9]+)\", ocr_text)\n",
        "invoice_date_match = re.search(r\"Date:\\s*([\\d/]+)\", ocr_text)\n",
        "\n",
        "if invoice_number_match:\n",
        "    invoice_number = invoice_number_match.group(1)\n",
        "else:\n",
        "    invoice_number = \"\"\n",
        "\n",
        "if invoice_date_match:\n",
        "    invoice_date = invoice_date_match.group(1)\n",
        "else:\n",
        "    invoice_date = \"\"\n",
        "\n",
        "# Extract items and their descriptions, prices, and amounts\n",
        "items = re.findall(r\"(\\d+)\\.\\s*(\\w+\\s\\w+)\\s*\\$(\\d+)\\s*\\$(\\d+)\", ocr_text)\n",
        "\n",
        "# Calculate the total amount\n",
        "total_match = re.search(r\"Total:\\s*\\$(\\d+)\", ocr_text)\n",
        "\n",
        "if total_match:\n",
        "    total_amount = total_match.group(1)\n",
        "else:\n",
        "    total_amount = \"\"\n",
        "\n",
        "# Specify CSV file path\n",
        "csv_file_path = \"invoice_summary.csv\"\n",
        "\n",
        "# Write extracted data to a CSV file\n",
        "with open(csv_file_path, mode='w', newline='') as csv_file:\n",
        "    fieldnames = [\"Invoice Number\", \"Date\", \"Item Number\", \"Item Description\", \"Price\", \"Amount\"]\n",
        "    writer = csv.DictWriter(csv_file, fieldnames=fieldnames)\n",
        "\n",
        "    writer.writeheader()  # Write CSV header\n",
        "\n",
        "    for item in items:\n",
        "        item_number, item_description, price, amount = item\n",
        "        writer.writerow({\n",
        "            \"Invoice Number\": invoice_number,\n",
        "            \"Date\": invoice_date,\n",
        "            \"Item Number\": item_number,\n",
        "            \"Item Description\": item_description,\n",
        "            \"Price\": price,\n",
        "            \"Amount\": amount,\n",
        "        })\n",
        "\n",
        "print(\"CSV file created successfully.\")\n"
      ],
      "metadata": {
        "colab": {
          "base_uri": "https://localhost:8080/"
        },
        "id": "-JxVz8w7k0iQ",
        "outputId": "83778896-967c-4cf6-84d5-8ad86b38ae0e"
      },
      "execution_count": 13,
      "outputs": [
        {
          "output_type": "stream",
          "name": "stdout",
          "text": [
            "CSV file created successfully.\n"
          ]
        }
      ]
    },
    {
      "cell_type": "markdown",
      "source": [
        "## Let us display the csv"
      ],
      "metadata": {
        "id": "QfvaUtsOrfHO"
      }
    },
    {
      "cell_type": "code",
      "source": [
        "import pandas as pd"
      ],
      "metadata": {
        "id": "bcMVZB5Freom"
      },
      "execution_count": 14,
      "outputs": []
    },
    {
      "cell_type": "code",
      "source": [
        "csv=pd.read_csv(\"invoice_summary.csv\")\n",
        "csv"
      ],
      "metadata": {
        "id": "Ot9odzfRrLwB",
        "colab": {
          "base_uri": "https://localhost:8080/",
          "height": 175
        },
        "outputId": "c81bc51d-93e2-4f4e-8402-3dbb3c3d4477"
      },
      "execution_count": 15,
      "outputs": [
        {
          "output_type": "execute_result",
          "data": {
            "text/plain": [
              "   Invoice Number  Date  Item Number    Item Description  Price  Amount\n",
              "0               1    12            1         Logo Design    200     200\n",
              "1               1    12            2  Advertising Design    500     500\n",
              "2               1    12            3       Poster Design    500     500\n",
              "3               1    12            4     Brochure Design    200     200"
            ],
            "text/html": [
              "\n",
              "  <div id=\"df-7ad41ca2-e761-41eb-9c16-fede5e51be90\" class=\"colab-df-container\">\n",
              "    <div>\n",
              "<style scoped>\n",
              "    .dataframe tbody tr th:only-of-type {\n",
              "        vertical-align: middle;\n",
              "    }\n",
              "\n",
              "    .dataframe tbody tr th {\n",
              "        vertical-align: top;\n",
              "    }\n",
              "\n",
              "    .dataframe thead th {\n",
              "        text-align: right;\n",
              "    }\n",
              "</style>\n",
              "<table border=\"1\" class=\"dataframe\">\n",
              "  <thead>\n",
              "    <tr style=\"text-align: right;\">\n",
              "      <th></th>\n",
              "      <th>Invoice Number</th>\n",
              "      <th>Date</th>\n",
              "      <th>Item Number</th>\n",
              "      <th>Item Description</th>\n",
              "      <th>Price</th>\n",
              "      <th>Amount</th>\n",
              "    </tr>\n",
              "  </thead>\n",
              "  <tbody>\n",
              "    <tr>\n",
              "      <th>0</th>\n",
              "      <td>1</td>\n",
              "      <td>12</td>\n",
              "      <td>1</td>\n",
              "      <td>Logo Design</td>\n",
              "      <td>200</td>\n",
              "      <td>200</td>\n",
              "    </tr>\n",
              "    <tr>\n",
              "      <th>1</th>\n",
              "      <td>1</td>\n",
              "      <td>12</td>\n",
              "      <td>2</td>\n",
              "      <td>Advertising Design</td>\n",
              "      <td>500</td>\n",
              "      <td>500</td>\n",
              "    </tr>\n",
              "    <tr>\n",
              "      <th>2</th>\n",
              "      <td>1</td>\n",
              "      <td>12</td>\n",
              "      <td>3</td>\n",
              "      <td>Poster Design</td>\n",
              "      <td>500</td>\n",
              "      <td>500</td>\n",
              "    </tr>\n",
              "    <tr>\n",
              "      <th>3</th>\n",
              "      <td>1</td>\n",
              "      <td>12</td>\n",
              "      <td>4</td>\n",
              "      <td>Brochure Design</td>\n",
              "      <td>200</td>\n",
              "      <td>200</td>\n",
              "    </tr>\n",
              "  </tbody>\n",
              "</table>\n",
              "</div>\n",
              "    <div class=\"colab-df-buttons\">\n",
              "\n",
              "  <div class=\"colab-df-container\">\n",
              "    <button class=\"colab-df-convert\" onclick=\"convertToInteractive('df-7ad41ca2-e761-41eb-9c16-fede5e51be90')\"\n",
              "            title=\"Convert this dataframe to an interactive table.\"\n",
              "            style=\"display:none;\">\n",
              "\n",
              "  <svg xmlns=\"http://www.w3.org/2000/svg\" height=\"24px\" viewBox=\"0 -960 960 960\">\n",
              "    <path d=\"M120-120v-720h720v720H120Zm60-500h600v-160H180v160Zm220 220h160v-160H400v160Zm0 220h160v-160H400v160ZM180-400h160v-160H180v160Zm440 0h160v-160H620v160ZM180-180h160v-160H180v160Zm440 0h160v-160H620v160Z\"/>\n",
              "  </svg>\n",
              "    </button>\n",
              "\n",
              "  <style>\n",
              "    .colab-df-container {\n",
              "      display:flex;\n",
              "      gap: 12px;\n",
              "    }\n",
              "\n",
              "    .colab-df-convert {\n",
              "      background-color: #E8F0FE;\n",
              "      border: none;\n",
              "      border-radius: 50%;\n",
              "      cursor: pointer;\n",
              "      display: none;\n",
              "      fill: #1967D2;\n",
              "      height: 32px;\n",
              "      padding: 0 0 0 0;\n",
              "      width: 32px;\n",
              "    }\n",
              "\n",
              "    .colab-df-convert:hover {\n",
              "      background-color: #E2EBFA;\n",
              "      box-shadow: 0px 1px 2px rgba(60, 64, 67, 0.3), 0px 1px 3px 1px rgba(60, 64, 67, 0.15);\n",
              "      fill: #174EA6;\n",
              "    }\n",
              "\n",
              "    .colab-df-buttons div {\n",
              "      margin-bottom: 4px;\n",
              "    }\n",
              "\n",
              "    [theme=dark] .colab-df-convert {\n",
              "      background-color: #3B4455;\n",
              "      fill: #D2E3FC;\n",
              "    }\n",
              "\n",
              "    [theme=dark] .colab-df-convert:hover {\n",
              "      background-color: #434B5C;\n",
              "      box-shadow: 0px 1px 3px 1px rgba(0, 0, 0, 0.15);\n",
              "      filter: drop-shadow(0px 1px 2px rgba(0, 0, 0, 0.3));\n",
              "      fill: #FFFFFF;\n",
              "    }\n",
              "  </style>\n",
              "\n",
              "    <script>\n",
              "      const buttonEl =\n",
              "        document.querySelector('#df-7ad41ca2-e761-41eb-9c16-fede5e51be90 button.colab-df-convert');\n",
              "      buttonEl.style.display =\n",
              "        google.colab.kernel.accessAllowed ? 'block' : 'none';\n",
              "\n",
              "      async function convertToInteractive(key) {\n",
              "        const element = document.querySelector('#df-7ad41ca2-e761-41eb-9c16-fede5e51be90');\n",
              "        const dataTable =\n",
              "          await google.colab.kernel.invokeFunction('convertToInteractive',\n",
              "                                                    [key], {});\n",
              "        if (!dataTable) return;\n",
              "\n",
              "        const docLinkHtml = 'Like what you see? Visit the ' +\n",
              "          '<a target=\"_blank\" href=https://colab.research.google.com/notebooks/data_table.ipynb>data table notebook</a>'\n",
              "          + ' to learn more about interactive tables.';\n",
              "        element.innerHTML = '';\n",
              "        dataTable['output_type'] = 'display_data';\n",
              "        await google.colab.output.renderOutput(dataTable, element);\n",
              "        const docLink = document.createElement('div');\n",
              "        docLink.innerHTML = docLinkHtml;\n",
              "        element.appendChild(docLink);\n",
              "      }\n",
              "    </script>\n",
              "  </div>\n",
              "\n",
              "\n",
              "<div id=\"df-0b1ec2cd-1be1-408b-bfd9-ff700a38cdf6\">\n",
              "  <button class=\"colab-df-quickchart\" onclick=\"quickchart('df-0b1ec2cd-1be1-408b-bfd9-ff700a38cdf6')\"\n",
              "            title=\"Suggest charts.\"\n",
              "            style=\"display:none;\">\n",
              "\n",
              "<svg xmlns=\"http://www.w3.org/2000/svg\" height=\"24px\"viewBox=\"0 0 24 24\"\n",
              "     width=\"24px\">\n",
              "    <g>\n",
              "        <path d=\"M19 3H5c-1.1 0-2 .9-2 2v14c0 1.1.9 2 2 2h14c1.1 0 2-.9 2-2V5c0-1.1-.9-2-2-2zM9 17H7v-7h2v7zm4 0h-2V7h2v10zm4 0h-2v-4h2v4z\"/>\n",
              "    </g>\n",
              "</svg>\n",
              "  </button>\n",
              "\n",
              "<style>\n",
              "  .colab-df-quickchart {\n",
              "      --bg-color: #E8F0FE;\n",
              "      --fill-color: #1967D2;\n",
              "      --hover-bg-color: #E2EBFA;\n",
              "      --hover-fill-color: #174EA6;\n",
              "      --disabled-fill-color: #AAA;\n",
              "      --disabled-bg-color: #DDD;\n",
              "  }\n",
              "\n",
              "  [theme=dark] .colab-df-quickchart {\n",
              "      --bg-color: #3B4455;\n",
              "      --fill-color: #D2E3FC;\n",
              "      --hover-bg-color: #434B5C;\n",
              "      --hover-fill-color: #FFFFFF;\n",
              "      --disabled-bg-color: #3B4455;\n",
              "      --disabled-fill-color: #666;\n",
              "  }\n",
              "\n",
              "  .colab-df-quickchart {\n",
              "    background-color: var(--bg-color);\n",
              "    border: none;\n",
              "    border-radius: 50%;\n",
              "    cursor: pointer;\n",
              "    display: none;\n",
              "    fill: var(--fill-color);\n",
              "    height: 32px;\n",
              "    padding: 0;\n",
              "    width: 32px;\n",
              "  }\n",
              "\n",
              "  .colab-df-quickchart:hover {\n",
              "    background-color: var(--hover-bg-color);\n",
              "    box-shadow: 0 1px 2px rgba(60, 64, 67, 0.3), 0 1px 3px 1px rgba(60, 64, 67, 0.15);\n",
              "    fill: var(--button-hover-fill-color);\n",
              "  }\n",
              "\n",
              "  .colab-df-quickchart-complete:disabled,\n",
              "  .colab-df-quickchart-complete:disabled:hover {\n",
              "    background-color: var(--disabled-bg-color);\n",
              "    fill: var(--disabled-fill-color);\n",
              "    box-shadow: none;\n",
              "  }\n",
              "\n",
              "  .colab-df-spinner {\n",
              "    border: 2px solid var(--fill-color);\n",
              "    border-color: transparent;\n",
              "    border-bottom-color: var(--fill-color);\n",
              "    animation:\n",
              "      spin 1s steps(1) infinite;\n",
              "  }\n",
              "\n",
              "  @keyframes spin {\n",
              "    0% {\n",
              "      border-color: transparent;\n",
              "      border-bottom-color: var(--fill-color);\n",
              "      border-left-color: var(--fill-color);\n",
              "    }\n",
              "    20% {\n",
              "      border-color: transparent;\n",
              "      border-left-color: var(--fill-color);\n",
              "      border-top-color: var(--fill-color);\n",
              "    }\n",
              "    30% {\n",
              "      border-color: transparent;\n",
              "      border-left-color: var(--fill-color);\n",
              "      border-top-color: var(--fill-color);\n",
              "      border-right-color: var(--fill-color);\n",
              "    }\n",
              "    40% {\n",
              "      border-color: transparent;\n",
              "      border-right-color: var(--fill-color);\n",
              "      border-top-color: var(--fill-color);\n",
              "    }\n",
              "    60% {\n",
              "      border-color: transparent;\n",
              "      border-right-color: var(--fill-color);\n",
              "    }\n",
              "    80% {\n",
              "      border-color: transparent;\n",
              "      border-right-color: var(--fill-color);\n",
              "      border-bottom-color: var(--fill-color);\n",
              "    }\n",
              "    90% {\n",
              "      border-color: transparent;\n",
              "      border-bottom-color: var(--fill-color);\n",
              "    }\n",
              "  }\n",
              "</style>\n",
              "\n",
              "  <script>\n",
              "    async function quickchart(key) {\n",
              "      const quickchartButtonEl =\n",
              "        document.querySelector('#' + key + ' button');\n",
              "      quickchartButtonEl.disabled = true;  // To prevent multiple clicks.\n",
              "      quickchartButtonEl.classList.add('colab-df-spinner');\n",
              "      try {\n",
              "        const charts = await google.colab.kernel.invokeFunction(\n",
              "            'suggestCharts', [key], {});\n",
              "      } catch (error) {\n",
              "        console.error('Error during call to suggestCharts:', error);\n",
              "      }\n",
              "      quickchartButtonEl.classList.remove('colab-df-spinner');\n",
              "      quickchartButtonEl.classList.add('colab-df-quickchart-complete');\n",
              "    }\n",
              "    (() => {\n",
              "      let quickchartButtonEl =\n",
              "        document.querySelector('#df-0b1ec2cd-1be1-408b-bfd9-ff700a38cdf6 button');\n",
              "      quickchartButtonEl.style.display =\n",
              "        google.colab.kernel.accessAllowed ? 'block' : 'none';\n",
              "    })();\n",
              "  </script>\n",
              "</div>\n",
              "    </div>\n",
              "  </div>\n"
            ]
          },
          "metadata": {},
          "execution_count": 15
        }
      ]
    },
    {
      "cell_type": "markdown",
      "source": [
        "## Since it doesnt include the total amount, let us modify the code futher."
      ],
      "metadata": {
        "id": "N0k8hPjSrKd1"
      }
    },
    {
      "cell_type": "code",
      "source": [
        "import re\n",
        "import csv\n",
        "\n",
        "# Initialize variables to track invoice details\n",
        "current_invoice_number = \"\"\n",
        "current_invoice_date = \"\"\n",
        "current_invoice_total = 0\n",
        "\n",
        "# Extracted data\n",
        "extracted_data = []\n",
        "\n",
        "# Extract items and their descriptions, prices, and amounts\n",
        "items = re.findall(r\"(\\d+)\\.\\s*(\\w+\\s\\w+)\\s*\\$(\\d+)\\s*\\$(\\d+)\", ocr_text)\n",
        "\n",
        "# Iterate through items and accumulate total for each invoice\n",
        "for item in items:\n",
        "    item_number, item_description, price, amount = item\n",
        "\n",
        "    # Extract invoice number and date if present\n",
        "    invoice_number_match = re.search(r\"Invoice No:\\s*([0-9]+)\", ocr_text)\n",
        "    invoice_date_match = re.search(r\"Date:\\s*([\\d/]+)\", ocr_text)\n",
        "\n",
        "    if invoice_number_match:\n",
        "        current_invoice_number = invoice_number_match.group(1)\n",
        "    else:\n",
        "        current_invoice_number = \"\"\n",
        "\n",
        "    if invoice_date_match:\n",
        "        current_invoice_date = invoice_date_match.group(1)\n",
        "    else:\n",
        "        current_invoice_date = \"\"\n",
        "\n",
        "    # Accumulate the total amount\n",
        "    current_invoice_total += int(amount)\n",
        "\n",
        "    # Append data to the extracted_data list\n",
        "    extracted_data.append({\n",
        "        \"Invoice Number\": current_invoice_number,\n",
        "        \"Date\": current_invoice_date,\n",
        "        \"Item Number\": item_number,\n",
        "        \"Item Description\": item_description,\n",
        "        \"Price\": price,\n",
        "        \"Amount\": amount,\n",
        "        \"Total Amount\": current_invoice_total,\n",
        "    })\n",
        "\n",
        "# Specify CSV file path\n",
        "csv_file_path = \"invoice_summary_withTotal.csv\"\n",
        "\n",
        "# Write extracted data to a CSV file\n",
        "with open(csv_file_path, mode='w', newline='') as csv_file:\n",
        "    fieldnames = [\"Invoice Number\", \"Date\", \"Item Number\", \"Item Description\", \"Price\", \"Amount\", \"Total Amount\"]\n",
        "    writer = csv.DictWriter(csv_file, fieldnames=fieldnames)\n",
        "\n",
        "    writer.writeheader()  # Write CSV header\n",
        "\n",
        "    for entry in extracted_data:\n",
        "        writer.writerow(entry)\n",
        "\n",
        "print(\"CSV file created successfully.\")\n"
      ],
      "metadata": {
        "colab": {
          "base_uri": "https://localhost:8080/"
        },
        "id": "cyRbwfDno-jH",
        "outputId": "269da2e9-f109-42df-e235-c1619adb901d"
      },
      "execution_count": 16,
      "outputs": [
        {
          "output_type": "stream",
          "name": "stdout",
          "text": [
            "CSV file created successfully.\n"
          ]
        }
      ]
    },
    {
      "cell_type": "markdown",
      "source": [
        "# Now let us make the reader to read multiple invoices and append all invoices onto the same csv file"
      ],
      "metadata": {
        "id": "fh0s-LwRvMYI"
      }
    },
    {
      "cell_type": "code",
      "source": [
        "import pytesseract\n",
        "from PIL import Image\n",
        "import re\n",
        "import csv\n",
        "import os\n",
        "\n",
        "# Initialize the CSV file path\n",
        "csv_file_path = \"invoice_summary_multiple.csv\"\n",
        "\n",
        "# Check if the CSV file already exists; if not, create it with headers\n",
        "if not os.path.isfile(csv_file_path):\n",
        "    with open(csv_file_path, mode='w', newline='') as csv_file:\n",
        "        fieldnames = [\"Invoice Number\", \"Date\", \"Item Number\", \"Item Description\", \"Price\", \"Amount\", \"Total Amount\"]\n",
        "        writer = csv.DictWriter(csv_file, fieldnames=fieldnames)\n",
        "        writer.writeheader()\n",
        "\n",
        "# Specify the directory where invoice images are located\n",
        "image_directory = \"invoice_images\"\n",
        "\n",
        "# Check if the specified directory exists\n",
        "if not os.path.exists(image_directory):\n",
        "    print(f\"The specified directory '{image_directory}' does not exist.\")\n",
        "else:\n",
        "    # List all files in the directory\n",
        "    invoice_image_files = [f for f in os.listdir(image_directory) if os.path.isfile(os.path.join(image_directory, f))]\n",
        "\n",
        "    # Iterate through the invoice image files\n",
        "    for image_file in invoice_image_files:\n",
        "        # Get the full path to the image file\n",
        "        image_path = os.path.join(image_directory, image_file)\n",
        "\n",
        "        # Load the image\n",
        "        image = Image.open(image_path)\n",
        "\n",
        "        # Perform OCR\n",
        "        ocr_text = pytesseract.image_to_string(image)\n",
        "\n",
        "        # Initialize variables to track invoice details\n",
        "        current_invoice_number = \"\"\n",
        "        current_invoice_date = \"\"\n",
        "        current_invoice_total = 0\n",
        "\n",
        "        # Extract items and their descriptions, prices, and amounts\n",
        "        items = re.findall(r\"(\\d+)\\.\\s*(\\w+\\s\\w+)\\s*\\$(\\d+)\\s*\\$(\\d+)\", ocr_text)\n",
        "\n",
        "        # Extract invoice number and date if present\n",
        "        invoice_number_match = re.search(r\"Invoice No:\\s*([0-9]+)\", ocr_text)\n",
        "        invoice_date_match = re.search(r\"Date:\\s*([\\d/]+)\", ocr_text)\n",
        "\n",
        "        if invoice_number_match:\n",
        "            current_invoice_number = invoice_number_match.group(1)\n",
        "        else:\n",
        "            current_invoice_number = \"\"\n",
        "\n",
        "        if invoice_date_match:\n",
        "            current_invoice_date = invoice_date_match.group(1)\n",
        "        else:\n",
        "            current_invoice_date = \"\"\n",
        "\n",
        "        # Initialize total amount for the current invoice\n",
        "        current_invoice_total = 0\n",
        "\n",
        "        # Extracted data\n",
        "        extracted_data = []\n",
        "\n",
        "        # Iterate through items and accumulate total for the current invoice\n",
        "        for item in items:\n",
        "            item_number, item_description, price, amount = item\n",
        "            current_invoice_total += int(amount)\n",
        "\n",
        "            # Append data to the extracted_data list\n",
        "            extracted_data.append({\n",
        "                \"Invoice Number\": current_invoice_number,\n",
        "                \"Date\": current_invoice_date,\n",
        "                \"Item Number\": item_number,\n",
        "                \"Item Description\": item_description,\n",
        "                \"Price\": price,\n",
        "                \"Amount\": amount,\n",
        "                \"Total Amount\": current_invoice_total,\n",
        "            })\n",
        "\n",
        "        # Append the extracted data to the CSV file\n",
        "        with open(csv_file_path, mode='a', newline='') as csv_file:\n",
        "            fieldnames = [\"Invoice Number\", \"Date\", \"Item Number\", \"Item Description\", \"Price\", \"Amount\", \"Total Amount\"]\n",
        "            writer = csv.DictWriter(csv_file, fieldnames=fieldnames)\n",
        "\n",
        "            for entry in extracted_data:\n",
        "                writer.writerow(entry)\n",
        "\n",
        "    print(\"Data from multiple invoices appended to the CSV file.\")\n"
      ],
      "metadata": {
        "id": "ecEkVF4nvde_",
        "colab": {
          "base_uri": "https://localhost:8080/"
        },
        "outputId": "ad7d3514-2285-4665-dbb1-8c60dbc963c1"
      },
      "execution_count": 22,
      "outputs": [
        {
          "output_type": "stream",
          "name": "stdout",
          "text": [
            "Data from multiple invoices appended to the CSV file.\n"
          ]
        }
      ]
    }
  ]
}